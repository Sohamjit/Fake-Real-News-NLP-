{
 "cells": [
  {
   "cell_type": "markdown",
   "metadata": {},
   "source": [
    "# Loading Packages"
   ]
  },
  {
   "cell_type": "markdown",
   "metadata": {},
   "source": [
    "<span style=\"color:red\"> We will start off by loading the required packages which have been used throughout these project."
   ]
  },
  {
   "cell_type": "code",
   "execution_count": 242,
   "metadata": {},
   "outputs": [
    {
     "name": "stderr",
     "output_type": "stream",
     "text": [
      "[nltk_data] Error loading # 1. Loading Required Packageswordnet:\n",
      "[nltk_data]     Package '# 1. Loading Required Packageswordnet' not\n",
      "[nltk_data]     found in index\n"
     ]
    }
   ],
   "source": [
    "import pandas as pd\n",
    "\n",
    "import matplotlib.pyplot as plt\n",
    "%matplotlib inline\n",
    "\n",
    "import sklearn\n",
    "\n",
    "from sklearn.ensemble import RandomForestClassifier\n",
    "\n",
    "from nltk.corpus import wordnet as wn\n",
    "from collections import defaultdict\n",
    "from nltk import pos_tag\n",
    "from nltk.corpus import stopwords\n",
    "\n",
    "from sklearn.model_selection import train_test_split\n",
    "from sklearn.metrics import accuracy_score\n",
    "from sklearn.metrics import confusion_matrix\n",
    "from sklearn.model_selection import cross_val_score\n",
    "from sklearn import model_selection, naive_bayes, svm\n",
    "from sklearn.preprocessing import LabelEncoder\n",
    "from sklearn.feature_extraction.text import TfidfVectorizer\n",
    "\n",
    "import numpy as np\n",
    "\n",
    "import nltk \n",
    "nltk.download('# 1. Loading Required Packageswordnet')\n",
    "\n",
    "from nltk.tokenize import word_tokenize\n",
    "\n",
    "from nltk.tokenize import blankline_tokenize\n",
    "\n",
    "from nltk.stem import PorterStemmer, LancasterStemmer, RegexpStemmer, WordNetLemmatizer"
   ]
  },
  {
   "cell_type": "markdown",
   "metadata": {},
   "source": [
    "# 2. Loading Dataset"
   ]
  },
  {
   "cell_type": "markdown",
   "metadata": {},
   "source": [
    "<span style=\"color:red\"> Next, we will load the train and test dataset into a pandas data frame. We will stack both the train and test data together and then do the data preparation and data creation."
   ]
  },
  {
   "cell_type": "code",
   "execution_count": 218,
   "metadata": {},
   "outputs": [
    {
     "data": {
      "text/html": [
       "<div>\n",
       "<style scoped>\n",
       "    .dataframe tbody tr th:only-of-type {\n",
       "        vertical-align: middle;\n",
       "    }\n",
       "\n",
       "    .dataframe tbody tr th {\n",
       "        vertical-align: top;\n",
       "    }\n",
       "\n",
       "    .dataframe thead th {\n",
       "        text-align: right;\n",
       "    }\n",
       "</style>\n",
       "<table border=\"1\" class=\"dataframe\">\n",
       "  <thead>\n",
       "    <tr style=\"text-align: right;\">\n",
       "      <th></th>\n",
       "      <th>ID</th>\n",
       "      <th>title</th>\n",
       "      <th>text</th>\n",
       "      <th>label</th>\n",
       "    </tr>\n",
       "  </thead>\n",
       "  <tbody>\n",
       "    <tr>\n",
       "      <th>0</th>\n",
       "      <td>8476</td>\n",
       "      <td>You Can Smell Hillary’s Fear</td>\n",
       "      <td>Daniel Greenfield, a Shillman Journalism Fello...</td>\n",
       "      <td>FAKE</td>\n",
       "    </tr>\n",
       "    <tr>\n",
       "      <th>1</th>\n",
       "      <td>10294</td>\n",
       "      <td>Watch The Exact Moment Paul Ryan Committed Pol...</td>\n",
       "      <td>Google Pinterest Digg Linkedin Reddit Stumbleu...</td>\n",
       "      <td>FAKE</td>\n",
       "    </tr>\n",
       "    <tr>\n",
       "      <th>2</th>\n",
       "      <td>3608</td>\n",
       "      <td>Kerry to go to Paris in gesture of sympathy</td>\n",
       "      <td>U.S. Secretary of State John F. Kerry said Mon...</td>\n",
       "      <td>REAL</td>\n",
       "    </tr>\n",
       "    <tr>\n",
       "      <th>3</th>\n",
       "      <td>10142</td>\n",
       "      <td>Bernie supporters on Twitter erupt in anger ag...</td>\n",
       "      <td>— Kaydee King (@KaydeeKing) November 9, 2016 T...</td>\n",
       "      <td>FAKE</td>\n",
       "    </tr>\n",
       "    <tr>\n",
       "      <th>4</th>\n",
       "      <td>875</td>\n",
       "      <td>The Battle of New York: Why This Primary Matters</td>\n",
       "      <td>It's primary day in New York and front-runners...</td>\n",
       "      <td>REAL</td>\n",
       "    </tr>\n",
       "  </tbody>\n",
       "</table>\n",
       "</div>"
      ],
      "text/plain": [
       "      ID                                              title  \\\n",
       "0   8476                       You Can Smell Hillary’s Fear   \n",
       "1  10294  Watch The Exact Moment Paul Ryan Committed Pol...   \n",
       "2   3608        Kerry to go to Paris in gesture of sympathy   \n",
       "3  10142  Bernie supporters on Twitter erupt in anger ag...   \n",
       "4    875   The Battle of New York: Why This Primary Matters   \n",
       "\n",
       "                                                text label  \n",
       "0  Daniel Greenfield, a Shillman Journalism Fello...  FAKE  \n",
       "1  Google Pinterest Digg Linkedin Reddit Stumbleu...  FAKE  \n",
       "2  U.S. Secretary of State John F. Kerry said Mon...  REAL  \n",
       "3  — Kaydee King (@KaydeeKing) November 9, 2016 T...  FAKE  \n",
       "4  It's primary day in New York and front-runners...  REAL  "
      ]
     },
     "execution_count": 218,
     "metadata": {},
     "output_type": "execute_result"
    }
   ],
   "source": [
    "## Read the training data set\n",
    "\n",
    "df_train = pd.read_csv(\"F:/IE Big Data & Business Analytics/Term 3/NLP/1st assignment data/fake_or_real_news_training.csv\")\n",
    "\n",
    "## Display the top 6 rows\n",
    "\n",
    "df_train.head()\n",
    "\n",
    "## Remove the last two un-necessary columns\n",
    "\n",
    "df_train = df_train.drop([\"X1\", \"X2\"], axis = 1)\n",
    "\n",
    "## Display the top 6 rows again\n",
    "\n",
    "df_train.head()\n"
   ]
  },
  {
   "cell_type": "code",
   "execution_count": 220,
   "metadata": {},
   "outputs": [
    {
     "data": {
      "text/html": [
       "<div>\n",
       "<style scoped>\n",
       "    .dataframe tbody tr th:only-of-type {\n",
       "        vertical-align: middle;\n",
       "    }\n",
       "\n",
       "    .dataframe tbody tr th {\n",
       "        vertical-align: top;\n",
       "    }\n",
       "\n",
       "    .dataframe thead th {\n",
       "        text-align: right;\n",
       "    }\n",
       "</style>\n",
       "<table border=\"1\" class=\"dataframe\">\n",
       "  <thead>\n",
       "    <tr style=\"text-align: right;\">\n",
       "      <th></th>\n",
       "      <th>ID</th>\n",
       "      <th>title</th>\n",
       "      <th>text</th>\n",
       "    </tr>\n",
       "  </thead>\n",
       "  <tbody>\n",
       "    <tr>\n",
       "      <th>0</th>\n",
       "      <td>10498</td>\n",
       "      <td>September New Homes Sales Rise——-Back To 1992 ...</td>\n",
       "      <td>September New Homes Sales Rise Back To 1992 Le...</td>\n",
       "    </tr>\n",
       "    <tr>\n",
       "      <th>1</th>\n",
       "      <td>2439</td>\n",
       "      <td>Why The Obamacare Doomsday Cult Can't Admit It...</td>\n",
       "      <td>But when Congress debated and passed the Patie...</td>\n",
       "    </tr>\n",
       "    <tr>\n",
       "      <th>2</th>\n",
       "      <td>864</td>\n",
       "      <td>Sanders, Cruz resist pressure after NY losses,...</td>\n",
       "      <td>The Bernie Sanders and Ted Cruz campaigns vowe...</td>\n",
       "    </tr>\n",
       "    <tr>\n",
       "      <th>3</th>\n",
       "      <td>4128</td>\n",
       "      <td>Surviving escaped prisoner likely fatigued and...</td>\n",
       "      <td>Police searching for the second of two escaped...</td>\n",
       "    </tr>\n",
       "    <tr>\n",
       "      <th>4</th>\n",
       "      <td>662</td>\n",
       "      <td>Clinton and Sanders neck and neck in Californi...</td>\n",
       "      <td>No matter who wins California's 475 delegates ...</td>\n",
       "    </tr>\n",
       "  </tbody>\n",
       "</table>\n",
       "</div>"
      ],
      "text/plain": [
       "      ID                                              title  \\\n",
       "0  10498  September New Homes Sales Rise——-Back To 1992 ...   \n",
       "1   2439  Why The Obamacare Doomsday Cult Can't Admit It...   \n",
       "2    864  Sanders, Cruz resist pressure after NY losses,...   \n",
       "3   4128  Surviving escaped prisoner likely fatigued and...   \n",
       "4    662  Clinton and Sanders neck and neck in Californi...   \n",
       "\n",
       "                                                text  \n",
       "0  September New Homes Sales Rise Back To 1992 Le...  \n",
       "1  But when Congress debated and passed the Patie...  \n",
       "2  The Bernie Sanders and Ted Cruz campaigns vowe...  \n",
       "3  Police searching for the second of two escaped...  \n",
       "4  No matter who wins California's 475 delegates ...  "
      ]
     },
     "execution_count": 220,
     "metadata": {},
     "output_type": "execute_result"
    }
   ],
   "source": [
    "## Read the training data set\n",
    "\n",
    "df_test = pd.read_csv(\"F:/IE Big Data & Business Analytics/Term 3/NLP/1st assignment data/fake_or_real_news_test.csv\")\n",
    "\n",
    "## Display the top 6 rows\n",
    "\n",
    "df_test.head()\n"
   ]
  },
  {
   "cell_type": "markdown",
   "metadata": {},
   "source": [
    "# 3. Data Preparation & EDA"
   ]
  },
  {
   "cell_type": "markdown",
   "metadata": {},
   "source": [
    "<span style=\"color:red\"> We will merge the train and test dataset together in order to carry out the same data preparation and data cleaning activities in both the datasets."
   ]
  },
  {
   "cell_type": "code",
   "execution_count": 221,
   "metadata": {},
   "outputs": [
    {
     "data": {
      "text/html": [
       "<div>\n",
       "<style scoped>\n",
       "    .dataframe tbody tr th:only-of-type {\n",
       "        vertical-align: middle;\n",
       "    }\n",
       "\n",
       "    .dataframe tbody tr th {\n",
       "        vertical-align: top;\n",
       "    }\n",
       "\n",
       "    .dataframe thead th {\n",
       "        text-align: right;\n",
       "    }\n",
       "</style>\n",
       "<table border=\"1\" class=\"dataframe\">\n",
       "  <thead>\n",
       "    <tr style=\"text-align: right;\">\n",
       "      <th></th>\n",
       "      <th>ID</th>\n",
       "      <th>label</th>\n",
       "      <th>text</th>\n",
       "      <th>title</th>\n",
       "    </tr>\n",
       "  </thead>\n",
       "  <tbody>\n",
       "    <tr>\n",
       "      <th>0</th>\n",
       "      <td>8476</td>\n",
       "      <td>FAKE</td>\n",
       "      <td>Daniel Greenfield, a Shillman Journalism Fello...</td>\n",
       "      <td>You Can Smell Hillary’s Fear</td>\n",
       "    </tr>\n",
       "    <tr>\n",
       "      <th>1</th>\n",
       "      <td>10294</td>\n",
       "      <td>FAKE</td>\n",
       "      <td>Google Pinterest Digg Linkedin Reddit Stumbleu...</td>\n",
       "      <td>Watch The Exact Moment Paul Ryan Committed Pol...</td>\n",
       "    </tr>\n",
       "    <tr>\n",
       "      <th>2</th>\n",
       "      <td>3608</td>\n",
       "      <td>REAL</td>\n",
       "      <td>U.S. Secretary of State John F. Kerry said Mon...</td>\n",
       "      <td>Kerry to go to Paris in gesture of sympathy</td>\n",
       "    </tr>\n",
       "    <tr>\n",
       "      <th>3</th>\n",
       "      <td>10142</td>\n",
       "      <td>FAKE</td>\n",
       "      <td>— Kaydee King (@KaydeeKing) November 9, 2016 T...</td>\n",
       "      <td>Bernie supporters on Twitter erupt in anger ag...</td>\n",
       "    </tr>\n",
       "    <tr>\n",
       "      <th>4</th>\n",
       "      <td>875</td>\n",
       "      <td>REAL</td>\n",
       "      <td>It's primary day in New York and front-runners...</td>\n",
       "      <td>The Battle of New York: Why This Primary Matters</td>\n",
       "    </tr>\n",
       "  </tbody>\n",
       "</table>\n",
       "</div>"
      ],
      "text/plain": [
       "      ID label                                               text  \\\n",
       "0   8476  FAKE  Daniel Greenfield, a Shillman Journalism Fello...   \n",
       "1  10294  FAKE  Google Pinterest Digg Linkedin Reddit Stumbleu...   \n",
       "2   3608  REAL  U.S. Secretary of State John F. Kerry said Mon...   \n",
       "3  10142  FAKE  — Kaydee King (@KaydeeKing) November 9, 2016 T...   \n",
       "4    875  REAL  It's primary day in New York and front-runners...   \n",
       "\n",
       "                                               title  \n",
       "0                       You Can Smell Hillary’s Fear  \n",
       "1  Watch The Exact Moment Paul Ryan Committed Pol...  \n",
       "2        Kerry to go to Paris in gesture of sympathy  \n",
       "3  Bernie supporters on Twitter erupt in anger ag...  \n",
       "4   The Battle of New York: Why This Primary Matters  "
      ]
     },
     "execution_count": 221,
     "metadata": {},
     "output_type": "execute_result"
    }
   ],
   "source": [
    "## Append the train and test data set\n",
    "\n",
    "df = df_train.append(df_test, ignore_index=True , sort = True)\n",
    "\n",
    "## Display the top 6 rows\n",
    "\n",
    "df.head()"
   ]
  },
  {
   "cell_type": "markdown",
   "metadata": {},
   "source": [
    "## 3.1 Tokenization"
   ]
  },
  {
   "cell_type": "markdown",
   "metadata": {},
   "source": [
    "<span style=\"color:red\"> We will first calculate the number of tokens in the title as well as in the text column and create two extra columns with the count of the tokens respectively. Then we visualize the spread of the tokens using a histogram."
   ]
  },
  {
   "cell_type": "code",
   "execution_count": 222,
   "metadata": {},
   "outputs": [],
   "source": [
    "## Define empty lists\n",
    "\n",
    "text_token_len =[]\n",
    "title_token_len =[]\n",
    "\n",
    "## Loop over each row of the data frame to count the length of token for text & title\n",
    "\n",
    "for row in range(0,len(df)) :\n",
    "    text_token_len.append(len(word_tokenize(df[\"text\"][row])))\n",
    "\n",
    "for row in range(0,len(df)) :\n",
    "    title_token_len.append(len(word_tokenize(df[\"title\"][row])))\n",
    "    \n",
    "## Create the additional column\n",
    "\n",
    "df[\"text_token_len\"] = text_token_len\n",
    "df[\"title_token_len\"] = title_token_len\n"
   ]
  },
  {
   "cell_type": "markdown",
   "metadata": {},
   "source": [
    "<span style=\"color:red\"> From the plot below, we can see that the distrobution of tokens is highly left skewed in both the text and the title columns.\n",
    "<span style=\"color:red\"> Most of the \"text\" column contain less than 2,000 tokens where as in the column \"title\" the number of tokens is mostly less than 20."
   ]
  },
  {
   "cell_type": "code",
   "execution_count": 20,
   "metadata": {},
   "outputs": [
    {
     "data": {
      "image/png": "[encoded data removed]",
      "text/plain": [
       "<Figure size 1080x432 with 2 Axes>"
      ]
     },
     "metadata": {
      "needs_background": "light"
     },
     "output_type": "display_data"
    }
   ],
   "source": [
    "plt.figure(figsize=(15,6))\n",
    "\n",
    "\n",
    "## Create the first plot\n",
    "\n",
    "plt.subplot(1,2,1)\n",
    "\n",
    "plt.hist(df[\"title_token_len\"] ,  color = \"blue\")\n",
    "plt.title(\"Distribution of Tokens in the Title\")\n",
    "plt.xlabel('Number of Tokens')\n",
    "plt.ylabel('Frequency')\n",
    "\n",
    "## Create the second plot\n",
    "plt.subplot(1,2,2)\n",
    "\n",
    "plt.hist(df[\"text_token_len\"] ,  color = \"red\")\n",
    "plt.title(\"Distribution of Tokens in the Text\")\n",
    "plt.xlabel('Number of Tokens')\n",
    "plt.ylabel('Frequency')\n",
    "\n",
    "plt.show()"
   ]
  },
  {
   "cell_type": "markdown",
   "metadata": {},
   "source": [
    "## 3.2 Blank Tokenization"
   ]
  },
  {
   "cell_type": "code",
   "execution_count": 223,
   "metadata": {},
   "outputs": [],
   "source": [
    "## Define empty lists\n",
    "\n",
    "text_token_blank_len =[]\n",
    "title_token_blank_len =[]\n",
    "\n",
    "## Loop over each row of the data frame to count the length of token for text & title\n",
    "\n",
    "for row in range(0,len(df)) :\n",
    "    text_token_blank_len.append(len(blankline_tokenize(df[\"text\"][row])))\n",
    "\n",
    "for row in range(0,len(df)) :\n",
    "    title_token_blank_len.append(len(blankline_tokenize(df[\"title\"][row])))\n",
    "    \n",
    "## Create the additional column\n",
    "\n",
    "df[\"text_token_blank_len\"] = text_token_blank_len\n",
    "df[\"title_token_blank_len\"] = title_token_blank_len"
   ]
  },
  {
   "cell_type": "markdown",
   "metadata": {},
   "source": [
    "<span style=\"color:red\"> The number of blank i.e the number of paragrahs in each text is mostly between 0 to 50 with few texts containing more blanks \n",
    "than 50."
   ]
  },
  {
   "cell_type": "code",
   "execution_count": 61,
   "metadata": {},
   "outputs": [
    {
     "data": {
      "image/png": "[encoded data removed]",
      "text/plain": [
       "<Figure size 1440x432 with 1 Axes>"
      ]
     },
     "metadata": {
      "needs_background": "light"
     },
     "output_type": "display_data"
    }
   ],
   "source": [
    "plt.figure(figsize=(20,6))\n",
    "\n",
    "plt.hist(df[\"text_token_blank_len\"] ,  color = \"yellow\")\n",
    "plt.title(\"Distribution of Blank Tokens in the Text\")\n",
    "plt.xlabel('Number of Blank Tokens')\n",
    "plt.ylabel('Frequency')\n",
    "\n",
    "plt.show()"
   ]
  },
  {
   "cell_type": "markdown",
   "metadata": {},
   "source": [
    "## 3.3  Stemming & Lametization"
   ]
  },
  {
   "cell_type": "markdown",
   "metadata": {},
   "source": [
    "<span style=\"color:red\"> Now we will use various stemming techniques (like Porter & Lancaster stemming) and word net lemetization on the both columns \n",
    "\"text\" & \"title\" and then count the number of unique tokens in them."
   ]
  },
  {
   "cell_type": "code",
   "execution_count": 224,
   "metadata": {},
   "outputs": [],
   "source": [
    "## Defining Porter Stemmer\n",
    "\n",
    "ps = PorterStemmer()\n",
    "\n",
    "## Defining blank lists\n",
    "\n",
    "text_ps_token_len =[]\n",
    "title_ps_token_len =[]\n",
    "\n",
    "## Calculate tokens for after porter stemming\n",
    "\n",
    "for word in df[\"text\"]:\n",
    "    text_ps_token_len.append(len(word_tokenize(ps.stem(word))))\n",
    "    \n",
    "for word in df[\"title\"]:\n",
    "    title_ps_token_len.append(len(word_tokenize(ps.stem(word))))\n",
    "\n",
    "    \n",
    "## Create additional columns\n",
    "\n",
    "df[\"text_ps_token_len\"] = text_ps_token_len\n",
    "df[\"title_ps_token_len\"] = title_ps_token_len\n",
    "\n",
    "\n",
    "## Defining Lancaster Stemmer\n",
    "\n",
    "ls = LancasterStemmer()\n",
    "\n",
    "## Defining blank lists\n",
    "\n",
    "text_ls_token_len =[]\n",
    "title_ls_token_len =[]\n",
    "\n",
    "## Calculate tokens for after lancaster stemming\n",
    "\n",
    "for word in df[\"text\"]:\n",
    "    text_ls_token_len.append(len(word_tokenize(ls.stem(word))))\n",
    "    \n",
    "for word in df[\"title\"]:\n",
    "    title_ls_token_len.append(len(word_tokenize(ls.stem(word))))\n",
    "\n",
    "    \n",
    "## Create additional columns\n",
    "\n",
    "df[\"text_ls_token_len\"] = text_ls_token_len\n",
    "df[\"title_ls_token_len\"] = title_ls_token_len\n",
    "\n",
    "## Defining Wordnet Lametizer\n",
    "\n",
    "wn = WordNetLemmatizer()\n",
    "\n",
    "## Defining blank lists\n",
    "\n",
    "text_wn_token_len =[]\n",
    "title_wn_token_len =[]\n",
    "\n",
    "## Calculate tokens for after lancaster stemming\n",
    "\n",
    "for word in df[\"text\"]:\n",
    "    text_wn_token_len.append(len(word_tokenize(wn.lemmatize(word))))\n",
    "    \n",
    "for word in df[\"title\"]:\n",
    "    title_wn_token_len.append(len(word_tokenize(wn.lemmatize(word))))\n",
    "\n",
    "    \n",
    "## Create additional columns\n",
    "\n",
    "df[\"text_wn_token_len\"] = text_wn_token_len\n",
    "df[\"title_wn_token_len\"] = title_wn_token_len\n"
   ]
  },
  {
   "cell_type": "markdown",
   "metadata": {},
   "source": [
    "### Number of Different Tokens Between Different Stemming & Lametizing Techniques"
   ]
  },
  {
   "cell_type": "code",
   "execution_count": 225,
   "metadata": {},
   "outputs": [],
   "source": [
    "## Caclulate the number of cases where the numebr of tokens is different between differnt types of stemming and lametizing\n",
    "\n",
    "df[\"is_different\"] = np.where((df[\"text_wn_token_len\"] == df[\"text_ls_token_len\"])  & \n",
    "                              (df[\"text_ls_token_len\"] == df[\"text_ps_token_len\"]) &\n",
    "                              (df[\"text_ps_token_len\"] == df[\"text_token_len\"]),0,1)"
   ]
  },
  {
   "cell_type": "code",
   "execution_count": 64,
   "metadata": {},
   "outputs": [
    {
     "data": {
      "image/png": "[encoded data removed]",
      "text/plain": [
       "<Figure size 864x432 with 1 Axes>"
      ]
     },
     "metadata": {
      "needs_background": "light"
     },
     "output_type": "display_data"
    }
   ],
   "source": [
    "## Plot the distribution of the \"is_different\" column\n",
    "\n",
    "plt.figure(figsize=(12,6))\n",
    "\n",
    "\n",
    "plt.hist(df[\"is_different\"] ,  color = \"green\")\n",
    "plt.title(\"Number of Cases Where the Tokens Are Different or Same Based on Various Techniques\")\n",
    "plt.xlabel('Is the Tokens Different')\n",
    "plt.ylabel('Frequency')\n",
    "\n",
    "plt.show()"
   ]
  },
  {
   "cell_type": "markdown",
   "metadata": {},
   "source": [
    "## 3.4 Lexical Diversity"
   ]
  },
  {
   "cell_type": "code",
   "execution_count": 226,
   "metadata": {},
   "outputs": [],
   "source": [
    "## Defining blank lists\n",
    "\n",
    "text_ld =[]\n",
    "title_ld =[]\n",
    "\n",
    "## Calculate tokens for after lancaster stemming\n",
    "\n",
    "for word in range(0,len(df)) :\n",
    "    text_ld.append(len(set(df[\"text\"][word]))/len(df[\"text\"][word]))\n",
    "    \n",
    "for word in range(0,len(df)) :\n",
    "    title_ld.append(len(set(df[\"title\"][word]))/len(df[\"title\"][word]))\n",
    "\n",
    "    \n",
    "## Create additional columns\n",
    "\n",
    "df[\"text_ld\"] = text_ld\n",
    "df[\"title_ld\"] = title_ld"
   ]
  },
  {
   "cell_type": "markdown",
   "metadata": {},
   "source": [
    "## 3.5 Display the Final Data"
   ]
  },
  {
   "cell_type": "code",
   "execution_count": 227,
   "metadata": {},
   "outputs": [
    {
     "data": {
      "text/html": [
       "<div>\n",
       "<style scoped>\n",
       "    .dataframe tbody tr th:only-of-type {\n",
       "        vertical-align: middle;\n",
       "    }\n",
       "\n",
       "    .dataframe tbody tr th {\n",
       "        vertical-align: top;\n",
       "    }\n",
       "\n",
       "    .dataframe thead th {\n",
       "        text-align: right;\n",
       "    }\n",
       "</style>\n",
       "<table border=\"1\" class=\"dataframe\">\n",
       "  <thead>\n",
       "    <tr style=\"text-align: right;\">\n",
       "      <th></th>\n",
       "      <th>ID</th>\n",
       "      <th>label</th>\n",
       "      <th>text</th>\n",
       "      <th>title</th>\n",
       "      <th>text_token_len</th>\n",
       "      <th>title_token_len</th>\n",
       "      <th>text_token_blank_len</th>\n",
       "      <th>title_token_blank_len</th>\n",
       "      <th>text_ps_token_len</th>\n",
       "      <th>title_ps_token_len</th>\n",
       "      <th>text_ls_token_len</th>\n",
       "      <th>title_ls_token_len</th>\n",
       "      <th>text_wn_token_len</th>\n",
       "      <th>title_wn_token_len</th>\n",
       "      <th>is_different</th>\n",
       "      <th>text_ld</th>\n",
       "      <th>title_ld</th>\n",
       "    </tr>\n",
       "  </thead>\n",
       "  <tbody>\n",
       "    <tr>\n",
       "      <th>0</th>\n",
       "      <td>8476</td>\n",
       "      <td>FAKE</td>\n",
       "      <td>Daniel Greenfield, a Shillman Journalism Fello...</td>\n",
       "      <td>You Can Smell Hillary’s Fear</td>\n",
       "      <td>1473</td>\n",
       "      <td>7</td>\n",
       "      <td>1</td>\n",
       "      <td>1</td>\n",
       "      <td>1473</td>\n",
       "      <td>7</td>\n",
       "      <td>1473</td>\n",
       "      <td>7</td>\n",
       "      <td>1473</td>\n",
       "      <td>7</td>\n",
       "      <td>0</td>\n",
       "      <td>0.007848</td>\n",
       "      <td>0.642857</td>\n",
       "    </tr>\n",
       "    <tr>\n",
       "      <th>1</th>\n",
       "      <td>10294</td>\n",
       "      <td>FAKE</td>\n",
       "      <td>Google Pinterest Digg Linkedin Reddit Stumbleu...</td>\n",
       "      <td>Watch The Exact Moment Paul Ryan Committed Pol...</td>\n",
       "      <td>517</td>\n",
       "      <td>16</td>\n",
       "      <td>1</td>\n",
       "      <td>1</td>\n",
       "      <td>516</td>\n",
       "      <td>16</td>\n",
       "      <td>516</td>\n",
       "      <td>16</td>\n",
       "      <td>517</td>\n",
       "      <td>16</td>\n",
       "      <td>1</td>\n",
       "      <td>0.024943</td>\n",
       "      <td>0.376471</td>\n",
       "    </tr>\n",
       "    <tr>\n",
       "      <th>2</th>\n",
       "      <td>3608</td>\n",
       "      <td>REAL</td>\n",
       "      <td>U.S. Secretary of State John F. Kerry said Mon...</td>\n",
       "      <td>Kerry to go to Paris in gesture of sympathy</td>\n",
       "      <td>484</td>\n",
       "      <td>9</td>\n",
       "      <td>9</td>\n",
       "      <td>1</td>\n",
       "      <td>484</td>\n",
       "      <td>9</td>\n",
       "      <td>484</td>\n",
       "      <td>9</td>\n",
       "      <td>484</td>\n",
       "      <td>9</td>\n",
       "      <td>0</td>\n",
       "      <td>0.020842</td>\n",
       "      <td>0.418605</td>\n",
       "    </tr>\n",
       "    <tr>\n",
       "      <th>3</th>\n",
       "      <td>10142</td>\n",
       "      <td>FAKE</td>\n",
       "      <td>— Kaydee King (@KaydeeKing) November 9, 2016 T...</td>\n",
       "      <td>Bernie supporters on Twitter erupt in anger ag...</td>\n",
       "      <td>498</td>\n",
       "      <td>18</td>\n",
       "      <td>2</td>\n",
       "      <td>1</td>\n",
       "      <td>497</td>\n",
       "      <td>18</td>\n",
       "      <td>497</td>\n",
       "      <td>18</td>\n",
       "      <td>498</td>\n",
       "      <td>18</td>\n",
       "      <td>1</td>\n",
       "      <td>0.028571</td>\n",
       "      <td>0.297619</td>\n",
       "    </tr>\n",
       "    <tr>\n",
       "      <th>4</th>\n",
       "      <td>875</td>\n",
       "      <td>REAL</td>\n",
       "      <td>It's primary day in New York and front-runners...</td>\n",
       "      <td>The Battle of New York: Why This Primary Matters</td>\n",
       "      <td>376</td>\n",
       "      <td>10</td>\n",
       "      <td>11</td>\n",
       "      <td>1</td>\n",
       "      <td>376</td>\n",
       "      <td>10</td>\n",
       "      <td>376</td>\n",
       "      <td>10</td>\n",
       "      <td>376</td>\n",
       "      <td>10</td>\n",
       "      <td>0</td>\n",
       "      <td>0.032065</td>\n",
       "      <td>0.479167</td>\n",
       "    </tr>\n",
       "  </tbody>\n",
       "</table>\n",
       "</div>"
      ],
      "text/plain": [
       "      ID label                                               text  \\\n",
       "0   8476  FAKE  Daniel Greenfield, a Shillman Journalism Fello...   \n",
       "1  10294  FAKE  Google Pinterest Digg Linkedin Reddit Stumbleu...   \n",
       "2   3608  REAL  U.S. Secretary of State John F. Kerry said Mon...   \n",
       "3  10142  FAKE  — Kaydee King (@KaydeeKing) November 9, 2016 T...   \n",
       "4    875  REAL  It's primary day in New York and front-runners...   \n",
       "\n",
       "                                               title  text_token_len  \\\n",
       "0                       You Can Smell Hillary’s Fear            1473   \n",
       "1  Watch The Exact Moment Paul Ryan Committed Pol...             517   \n",
       "2        Kerry to go to Paris in gesture of sympathy             484   \n",
       "3  Bernie supporters on Twitter erupt in anger ag...             498   \n",
       "4   The Battle of New York: Why This Primary Matters             376   \n",
       "\n",
       "   title_token_len  text_token_blank_len  title_token_blank_len  \\\n",
       "0                7                     1                      1   \n",
       "1               16                     1                      1   \n",
       "2                9                     9                      1   \n",
       "3               18                     2                      1   \n",
       "4               10                    11                      1   \n",
       "\n",
       "   text_ps_token_len  title_ps_token_len  text_ls_token_len  \\\n",
       "0               1473                   7               1473   \n",
       "1                516                  16                516   \n",
       "2                484                   9                484   \n",
       "3                497                  18                497   \n",
       "4                376                  10                376   \n",
       "\n",
       "   title_ls_token_len  text_wn_token_len  title_wn_token_len  is_different  \\\n",
       "0                   7               1473                   7             0   \n",
       "1                  16                517                  16             1   \n",
       "2                   9                484                   9             0   \n",
       "3                  18                498                  18             1   \n",
       "4                  10                376                  10             0   \n",
       "\n",
       "    text_ld  title_ld  \n",
       "0  0.007848  0.642857  \n",
       "1  0.024943  0.376471  \n",
       "2  0.020842  0.418605  \n",
       "3  0.028571  0.297619  \n",
       "4  0.032065  0.479167  "
      ]
     },
     "execution_count": 227,
     "metadata": {},
     "output_type": "execute_result"
    }
   ],
   "source": [
    "df.head()"
   ]
  },
  {
   "cell_type": "markdown",
   "metadata": {},
   "source": [
    "# 4. Approach 1) Modeling On Above Created Features"
   ]
  },
  {
   "cell_type": "markdown",
   "metadata": {},
   "source": [
    "<span style=\"color:red\"> Using the columns that we have created above we will first create a base line model to test the performance of our model. For this we will first split our training data set into 90% train and rest into test and use the random forest algorithm to check for accuracy."
   ]
  },
  {
   "cell_type": "code",
   "execution_count": 230,
   "metadata": {},
   "outputs": [
    {
     "name": "stdout",
     "output_type": "stream",
     "text": [
      "The Accuracy on the Test Dataset is :: 0.9672544080604534\n"
     ]
    }
   ],
   "source": [
    "## Filtering out the train data from the merged dataframe\n",
    "\n",
    "train = df[df['label'].notnull()]\n",
    "\n",
    "## Removing all labels other than \"fake\" & \"real\"\n",
    "\n",
    "train = train[train.label == \"FAKE\"].append(train[train.label == \"REAL\"])\n",
    "\n",
    "## Convert the label from string to numerical value\n",
    "\n",
    "train['label'] = train['label'].map({'FAKE': 1, 'REAL': 0})\n",
    "\n",
    "## Split the train data into train and test\n",
    "\n",
    "x_train = train.sample(frac =0.9, random_state = 6497)\n",
    "\n",
    "x_test = train.loc[~train.index.isin(x_train.index), :]\n",
    "\n",
    "## Create two seperate dataframes. The first one contains all the features and the second contains the corresponding labels\n",
    "\n",
    "x_train_data = x_train[[\"text_ld\", \"title_ld\",\"is_different\",\"title_token_blank_len\",\"text_token_blank_len\",\n",
    "                             \"text_wn_token_len\", \"title_wn_token_len\"]]\n",
    "\n",
    "x_train_label = x_train.iloc[:,1]\n",
    "\n",
    "## Run random forest algorithm \n",
    "\n",
    "rf = RandomForestClassifier(n_estimators = 500)\n",
    "\n",
    "rf.fit(x_train_data,x_train_label)\n",
    "\n",
    "## Test on the test dataset\n",
    "\n",
    "x_test_data = x_test[[\"text_ld\", \"title_ld\",\"is_different\",\"title_token_blank_len\",\"text_token_blank_len\",\n",
    "                             \"text_wn_token_len\", \"title_wn_token_len\"]]\n",
    "\n",
    "x_test_label = x_test.iloc[:,1]\n",
    "\n",
    "## Check the accuracy\n",
    "\n",
    "print (\"The Accuracy on the Test Dataset is ::\", accuracy_score(x_test_label,rf.predict(x_test_data)) )\n",
    "\n"
   ]
  },
  {
   "cell_type": "markdown",
   "metadata": {},
   "source": [
    "<span style=\"color:red\"> The above random forest classification gives a very good accuracy of about 97%. Below we will check the confusion matrix for the same."
   ]
  },
  {
   "cell_type": "markdown",
   "metadata": {},
   "source": [
    "## 4.1 Confusion Matrix"
   ]
  },
  {
   "cell_type": "code",
   "execution_count": 154,
   "metadata": {},
   "outputs": [
    {
     "data": {
      "text/plain": [
       "array([[205,   4],\n",
       "       [  9, 179]], dtype=int64)"
      ]
     },
     "execution_count": 154,
     "metadata": {},
     "output_type": "execute_result"
    }
   ],
   "source": [
    "## Create confusion matrix\n",
    "\n",
    "confusion_matrix(x_test_label,rf.predict(x_test_data))"
   ]
  },
  {
   "cell_type": "markdown",
   "metadata": {},
   "source": [
    "## 4.2 Feature Importance"
   ]
  },
  {
   "cell_type": "code",
   "execution_count": 162,
   "metadata": {},
   "outputs": [
    {
     "data": {
      "text/plain": [
       "Text(0.5, 1.0, 'Feature Importance')"
      ]
     },
     "execution_count": 162,
     "metadata": {},
     "output_type": "execute_result"
    },
    {
     "data": {
      "image/png": "[encoded data removed]",
      "text/plain": [
       "<Figure size 432x288 with 1 Axes>"
      ]
     },
     "metadata": {
      "needs_background": "light"
     },
     "output_type": "display_data"
    }
   ],
   "source": [
    "feat_importances = pd.Series(rf.feature_importances_, index=x_test_data.columns)\n",
    "feat_importances.nlargest(4).plot(kind='barh')\n",
    "plt.title(\"Top 4 Feature Importance Variables\")"
   ]
  },
  {
   "cell_type": "markdown",
   "metadata": {},
   "source": [
    "<span style=\"color:red\">  From the above plot we can say that the above four features are most important in classifying if the news is fake or not.\n",
    "<span style=\"color:red\"> Furthermore, the number of blanks seems to play the most crucial role in determining if the news are fake or not."
   ]
  },
  {
   "cell_type": "markdown",
   "metadata": {},
   "source": [
    "## 4.3 Random Forest With Cross Validation"
   ]
  },
  {
   "cell_type": "code",
   "execution_count": 165,
   "metadata": {},
   "outputs": [
    {
     "name": "stderr",
     "output_type": "stream",
     "text": [
      "[Parallel(n_jobs=-1)]: Using backend LokyBackend with 8 concurrent workers.\n",
      "[Parallel(n_jobs=-1)]: Done   2 out of   5 | elapsed:    0.2s remaining:    0.3s\n",
      "[Parallel(n_jobs=-1)]: Done   5 out of   5 | elapsed:    2.1s finished\n"
     ]
    },
    {
     "data": {
      "text/plain": [
       "array([0.97202797, 0.96358543, 0.96358543, 0.97054698, 0.95231417])"
      ]
     },
     "execution_count": 165,
     "metadata": {},
     "output_type": "execute_result"
    }
   ],
   "source": [
    "rf = RandomForestClassifier(max_depth = 7, random_state = 0)\n",
    "cross_val_score(rf,x_train_data,x_train_label,scoring='accuracy',cv=5,verbose=5,n_jobs=-1)"
   ]
  },
  {
   "cell_type": "markdown",
   "metadata": {},
   "source": [
    "<span style=\"color:red\"> The 5 - fold cross validation on the data set is also giving as an accuracy of about 96 % on average."
   ]
  },
  {
   "cell_type": "markdown",
   "metadata": {},
   "source": [
    "# 5. Approach 2) TFID Vectorization"
   ]
  },
  {
   "cell_type": "markdown",
   "metadata": {},
   "source": [
    "<span style=\"color:red\"> We will start of by concanating both the text and the title together then clean and lametize the column and finally run TFID vectorization on it. "
   ]
  },
  {
   "cell_type": "markdown",
   "metadata": {},
   "source": [
    "## 5.1 Data Manipulation & Tokenization"
   ]
  },
  {
   "cell_type": "code",
   "execution_count": 240,
   "metadata": {},
   "outputs": [
    {
     "name": "stderr",
     "output_type": "stream",
     "text": [
      "C:\\Users\\SOHAMJIT\\Anaconda3\\lib\\site-packages\\ipykernel_launcher.py:6: SettingWithCopyWarning: \n",
      "A value is trying to be set on a copy of a slice from a DataFrame.\n",
      "Try using .loc[row_indexer,col_indexer] = value instead\n",
      "\n",
      "See the caveats in the documentation: http://pandas.pydata.org/pandas-docs/stable/indexing.html#indexing-view-versus-copy\n",
      "  \n",
      "C:\\Users\\SOHAMJIT\\Anaconda3\\lib\\site-packages\\ipykernel_launcher.py:10: SettingWithCopyWarning: \n",
      "A value is trying to be set on a copy of a slice from a DataFrame.\n",
      "Try using .loc[row_indexer,col_indexer] = value instead\n",
      "\n",
      "See the caveats in the documentation: http://pandas.pydata.org/pandas-docs/stable/indexing.html#indexing-view-versus-copy\n",
      "  # Remove the CWD from sys.path while we load stuff.\n",
      "C:\\Users\\SOHAMJIT\\Anaconda3\\lib\\site-packages\\ipykernel_launcher.py:14: SettingWithCopyWarning: \n",
      "A value is trying to be set on a copy of a slice from a DataFrame.\n",
      "Try using .loc[row_indexer,col_indexer] = value instead\n",
      "\n",
      "See the caveats in the documentation: http://pandas.pydata.org/pandas-docs/stable/indexing.html#indexing-view-versus-copy\n",
      "  \n"
     ]
    }
   ],
   "source": [
    "## Filter out the required columns\n",
    "\n",
    "df_new = df[[\"label\",\"text\",\"title\"]]\n",
    "\n",
    "## Concat the tilte and text\n",
    "df_new[\"concat\"] = df_new[\"text\"] + df_new[\"title\"]\n",
    "\n",
    "## Convert all the words into lower form\n",
    "\n",
    "df_new[\"concat\"] = [entry.lower() for entry in df_new[\"concat\"]]\n",
    "\n",
    "## Tokenize the column\n",
    "\n",
    "df_new[\"concat\"] = [word_tokenize(entry) for entry in df_new[\"concat\"]]"
   ]
  },
  {
   "cell_type": "markdown",
   "metadata": {},
   "source": [
    "## 5.2 Data Preparation"
   ]
  },
  {
   "cell_type": "code",
   "execution_count": 243,
   "metadata": {},
   "outputs": [
    {
     "name": "stderr",
     "output_type": "stream",
     "text": [
      "C:\\Users\\SOHAMJIT\\Anaconda3\\lib\\site-packages\\pandas\\core\\indexing.py:362: SettingWithCopyWarning: \n",
      "A value is trying to be set on a copy of a slice from a DataFrame.\n",
      "Try using .loc[row_indexer,col_indexer] = value instead\n",
      "\n",
      "See the caveats in the documentation: http://pandas.pydata.org/pandas-docs/stable/indexing.html#indexing-view-versus-copy\n",
      "  self.obj[key] = _infer_fill_value(value)\n",
      "C:\\Users\\SOHAMJIT\\Anaconda3\\lib\\site-packages\\pandas\\core\\indexing.py:543: SettingWithCopyWarning: \n",
      "A value is trying to be set on a copy of a slice from a DataFrame.\n",
      "Try using .loc[row_indexer,col_indexer] = value instead\n",
      "\n",
      "See the caveats in the documentation: http://pandas.pydata.org/pandas-docs/stable/indexing.html#indexing-view-versus-copy\n",
      "  self.obj[item] = s\n",
      "C:\\Users\\SOHAMJIT\\Anaconda3\\lib\\site-packages\\pandas\\core\\indexing.py:189: SettingWithCopyWarning: \n",
      "A value is trying to be set on a copy of a slice from a DataFrame\n",
      "\n",
      "See the caveats in the documentation: http://pandas.pydata.org/pandas-docs/stable/indexing.html#indexing-view-versus-copy\n",
      "  self._setitem_with_indexer(indexer, value)\n",
      "C:\\Users\\SOHAMJIT\\Anaconda3\\lib\\site-packages\\ipykernel_launcher.py:28: SettingWithCopyWarning: \n",
      "A value is trying to be set on a copy of a slice from a DataFrame\n",
      "\n",
      "See the caveats in the documentation: http://pandas.pydata.org/pandas-docs/stable/indexing.html#indexing-view-versus-copy\n"
     ]
    }
   ],
   "source": [
    "tag_map = defaultdict(lambda : wn.NOUN)\n",
    "tag_map['J'] = wn.ADJ\n",
    "tag_map['V'] = wn.VERB\n",
    "tag_map['R'] = wn.ADV\n",
    "\n",
    "for index,entry in enumerate(df_new[\"concat\"]):\n",
    "    \n",
    "    # Declaring Empty List to store the words that follow the rules for this step\n",
    "    \n",
    "    Final_words = []\n",
    "    \n",
    "    # Initializing WordNetLemmatizer()\n",
    "    \n",
    "    word_Lemmatized = WordNetLemmatizer()\n",
    "    \n",
    "    # pos_tag function below will provide the 'tag' i.e if the word is Noun(N) or Verb(V) or something else\n",
    "    \n",
    "    for word, tag in pos_tag(entry):\n",
    "        \n",
    "        # Below condition is to check for Stop words and consider only alphabets\n",
    "        \n",
    "        if word not in stopwords.words('english') and word.isalpha():\n",
    "            word_Final = word_Lemmatized.lemmatize(word,tag_map[tag[0]])\n",
    "            Final_words.append(word_Final)\n",
    "            \n",
    "    # The final processed set of words for each iteration will be stored in 'text_final'\n",
    "    \n",
    "    df_new.loc[index,'text_final'] = str(Final_words)\n",
    "    \n"
   ]
  },
  {
   "cell_type": "markdown",
   "metadata": {},
   "source": [
    "## 5.3 Data Cleaning"
   ]
  },
  {
   "cell_type": "code",
   "execution_count": 244,
   "metadata": {},
   "outputs": [],
   "source": [
    "df_new = df_new[df_new.label == \"FAKE\"].append(df_new[df_new.label == \"REAL\"])\n",
    "## Convert the label to numeric type \n",
    "\n",
    "df_new['label'] = df_new['label'].map({'FAKE': 1, 'REAL': 0})\n",
    "\n",
    "## Split the test train data set\n",
    "\n",
    "Train_X, Test_X, Train_Y, Test_Y = model_selection.train_test_split(df_new['text_final'],df_new['label'],test_size=0.1)"
   ]
  },
  {
   "cell_type": "markdown",
   "metadata": {},
   "source": [
    "## 5.4 Creation of TFIDF"
   ]
  },
  {
   "cell_type": "code",
   "execution_count": 245,
   "metadata": {},
   "outputs": [],
   "source": [
    "Encoder = LabelEncoder()\n",
    "Train_Y = Encoder.fit_transform(Train_Y)\n",
    "Test_Y = Encoder.fit_transform(Test_Y)"
   ]
  },
  {
   "cell_type": "code",
   "execution_count": 247,
   "metadata": {},
   "outputs": [],
   "source": [
    "Tfidf_vect = TfidfVectorizer(max_features=5000)\n",
    "Tfidf_vect.fit(df_new['text_final'])\n",
    "Train_X_Tfidf = Tfidf_vect.transform(Train_X)\n",
    "Test_X_Tfidf = Tfidf_vect.transform(Test_X)"
   ]
  },
  {
   "cell_type": "markdown",
   "metadata": {},
   "source": [
    "## 5.5 Naive Bayes Algorithm"
   ]
  },
  {
   "cell_type": "code",
   "execution_count": 248,
   "metadata": {},
   "outputs": [
    {
     "name": "stdout",
     "output_type": "stream",
     "text": [
      "Naive Bayes Accuracy Score ->  88.9168765743073\n"
     ]
    }
   ],
   "source": [
    "## Fit the training dataset on the NB classifier\n",
    "\n",
    "Naive = naive_bayes.MultinomialNB()\n",
    "\n",
    "Naive.fit(Train_X_Tfidf,Train_Y)\n",
    "\n",
    "## Predict the labels on validation dataset\n",
    "\n",
    "predictions_NB = Naive.predict(Test_X_Tfidf)\n",
    "\n",
    "## Use accuracy_score function to get the accuracy\n",
    "\n",
    "print(\"Naive Bayes Accuracy Score -> \",accuracy_score(predictions_NB, Test_Y)*100)"
   ]
  },
  {
   "cell_type": "markdown",
   "metadata": {},
   "source": [
    "## 5.6 Random Forest Algorithm"
   ]
  },
  {
   "cell_type": "code",
   "execution_count": 249,
   "metadata": {},
   "outputs": [
    {
     "name": "stdout",
     "output_type": "stream",
     "text": [
      "Naive Bayes Accuracy Score ->  85.13853904282117\n"
     ]
    }
   ],
   "source": [
    "## Fit the training dataset on the RF classifier\n",
    "\n",
    "RF = RandomForestClassifier(max_depth = 7, n_estimators = 1000, random_state = 6497)\n",
    "\n",
    "RF.fit(Train_X_Tfidf,Train_Y)\n",
    "\n",
    "## Predict the labels on validation dataset\n",
    "\n",
    "predictions_RF = RF.predict(Test_X_Tfidf)\n",
    "\n",
    "\n",
    "## Use accuracy_score function to get the accuracy\n",
    "\n",
    "print(\"Naive Bayes Accuracy Score -> \",accuracy_score(predictions_RF, Test_Y)*100)"
   ]
  },
  {
   "cell_type": "markdown",
   "metadata": {},
   "source": [
    "<span style=\"color:red\"> Based on the above two methodologies , we can clearly see that the accuracy in the approach 1 is way better than that of the second approach. So, we will use the random forest algorithm from the first approach to predict the type of news in our test dataset."
   ]
  },
  {
   "cell_type": "markdown",
   "metadata": {},
   "source": [
    "# 6. Create Final Submission File"
   ]
  },
  {
   "cell_type": "code",
   "execution_count": 237,
   "metadata": {},
   "outputs": [
    {
     "data": {
      "text/html": [
       "<div>\n",
       "<style scoped>\n",
       "    .dataframe tbody tr th:only-of-type {\n",
       "        vertical-align: middle;\n",
       "    }\n",
       "\n",
       "    .dataframe tbody tr th {\n",
       "        vertical-align: top;\n",
       "    }\n",
       "\n",
       "    .dataframe thead th {\n",
       "        text-align: right;\n",
       "    }\n",
       "</style>\n",
       "<table border=\"1\" class=\"dataframe\">\n",
       "  <thead>\n",
       "    <tr style=\"text-align: right;\">\n",
       "      <th></th>\n",
       "      <th>ID</th>\n",
       "      <th>Target</th>\n",
       "    </tr>\n",
       "  </thead>\n",
       "  <tbody>\n",
       "    <tr>\n",
       "      <th>3999</th>\n",
       "      <td>10498</td>\n",
       "      <td>REAL</td>\n",
       "    </tr>\n",
       "    <tr>\n",
       "      <th>4000</th>\n",
       "      <td>2439</td>\n",
       "      <td>REAL</td>\n",
       "    </tr>\n",
       "    <tr>\n",
       "      <th>4001</th>\n",
       "      <td>864</td>\n",
       "      <td>REAL</td>\n",
       "    </tr>\n",
       "    <tr>\n",
       "      <th>4002</th>\n",
       "      <td>4128</td>\n",
       "      <td>REAL</td>\n",
       "    </tr>\n",
       "    <tr>\n",
       "      <th>4003</th>\n",
       "      <td>662</td>\n",
       "      <td>REAL</td>\n",
       "    </tr>\n",
       "  </tbody>\n",
       "</table>\n",
       "</div>"
      ],
      "text/plain": [
       "         ID Target\n",
       "3999  10498   REAL\n",
       "4000   2439   REAL\n",
       "4001    864   REAL\n",
       "4002   4128   REAL\n",
       "4003    662   REAL"
      ]
     },
     "execution_count": 237,
     "metadata": {},
     "output_type": "execute_result"
    }
   ],
   "source": [
    "## Filter out the test dataset\n",
    "\n",
    "test = df[df['label'].isnull()]\n",
    "test = test[[\"text_ld\", \"title_ld\",\"is_different\",\"title_token_blank_len\",\"text_token_blank_len\",\n",
    "                             \"text_wn_token_len\", \"title_wn_token_len\"]]\n",
    "\n",
    "## Create submission dataframe\n",
    "\n",
    "submission = pd.DataFrame()\n",
    "submission[\"ID\"] = df[df['label'].isnull()][\"ID\"]\n",
    "submission['Target'] = rf.predict(test)\n",
    "\n",
    "## Replace numeric interger in target column with string (Real / Fake)\n",
    "\n",
    "submission['Target'] = submission['Target'].map({1: \"FAKE\", 0: \"REAL\"})\n",
    "\n",
    "## Display the top 6 rows\n",
    "\n",
    "submission.head()\n"
   ]
  },
  {
   "cell_type": "markdown",
   "metadata": {},
   "source": [
    "# 7 Write to Hard Disk"
   ]
  },
  {
   "cell_type": "code",
   "execution_count": 239,
   "metadata": {},
   "outputs": [],
   "source": [
    "## Write to hard disk\n",
    "\n",
    "submission.to_csv('F:/IE Big Data & Business Analytics/Term 3/NLP/1st assignment data/Sohamjit_Mukherjee-Prediction.csv')"
   ]
  }
 ],
 "metadata": {
  "kernelspec": {
   "display_name": "Python 3",
   "language": "python",
   "name": "python3"
  },
  "language_info": {
   "codemirror_mode": {
    "name": "ipython",
    "version": 3
   },
   "file_extension": ".py",
   "mimetype": "text/x-python",
   "name": "python",
   "nbconvert_exporter": "python",
   "pygments_lexer": "ipython3",
   "version": "3.7.1"
  }
 },
 "nbformat": 4,
 "nbformat_minor": 2
}
